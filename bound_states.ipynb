{
 "cells": [
  {
   "cell_type": "markdown",
   "metadata": {},
   "source": [
    "# Task 1\n"
   ]
  },
  {
   "cell_type": "code",
   "execution_count": 1,
   "metadata": {},
   "outputs": [],
   "source": [
    "import numpy as np\n",
    "import matplotlib.pyplot as plt\n",
    "from matplotlib import cm\n",
    "import scipy.special\n",
    "import math\n",
    "import scipy.constants as const\n",
    "# import scipy.constants.physical_constants"
   ]
  },
  {
   "cell_type": "code",
   "execution_count": 2,
   "metadata": {},
   "outputs": [],
   "source": [
    "def V_total(R):\n",
    "    return D_e * ((R_e / R) ** 12 - 2 * (R_e / R) ** 6)\n",
    "\n",
    "\n",
    "def calc_k_squared(R, E, mu):\n",
    "    return (2 * mu / h_dash) * (E - V_total(R))\n",
    "\n",
    "\n",
    "def reduced_mass(m1, m2):\n",
    "    return (m1 * m2) / (m1 + m2)\n",
    "\n",
    "\n",
    "def F_calc(h, k_n_squared, k_n_plus1_squared, k_n_minus1_squared, F_minus_1):\n",
    "    return (2 * (1 - 5 * h ** 2 * k_n_squared / 12) - (1 + h ** 2 * k_n_minus1_squared / 12) / F_minus_1) / (1 + h ** 2 * k_n_plus1_squared / 12)\n",
    "\n",
    "\n",
    "def F_calc_first(h, k_n_squared, k_n_plus1_squared):\n",
    "    return (2 * (1 - 5 * h ** 2 * k_n_squared / 12)) / (1 + h ** 2 * k_n_plus1_squared / 12)\n",
    "\n"
   ]
  },
  {
   "cell_type": "code",
   "execution_count": 10,
   "metadata": {},
   "outputs": [
    {
     "name": "stdout",
     "output_type": "stream",
     "text": [
      "[10.  10.9 11.8 12.7 13.6 14.5 15.4 16.3 17.2 18.1 19.  19.9 20.8 21.7\n",
      " 22.6 23.5 24.4 25.3 26.2 27.1 28.  28.9 29.8 30.7 31.6 32.5 33.4 34.3\n",
      " 35.2 36.1 37.  37.9 38.8 39.7 40.6 41.5 42.4 43.3 44.2 45.1 46.  46.9\n",
      " 47.8 48.7 49.6 50.5 51.4 52.3 53.2 54.1 55.  55.9 56.8 57.7 58.6 59.5\n",
      " 60.4 61.3 62.2 63.1 64.  64.9 65.8 66.7 67.6 68.5 69.4 70.3 71.2 72.1\n",
      " 73.  73.9 74.8 75.7 76.6 77.5 78.4 79.3 80.2 81.1 82.  82.9 83.8 84.7\n",
      " 85.6 86.5 87.4 88.3 89.2 90.1 91.  91.9 92.8 93.7 94.6 95.5 96.4 97.3\n",
      " 98.2]\n"
     ]
    }
   ],
   "source": [
    "# initial parameters\n",
    "\n",
    "h_dash = 1\n",
    "m_e = h_dash\n",
    "\n",
    "physical_constants = const.physical_constants\n",
    "hartree_kelvin_val = physical_constants['hartree-kelvin relationship'][0]\n",
    "\n",
    "# all those variables in atomic units a.u\n",
    "\n",
    "u = 1822.888\n",
    "m_39K = 38.963707 * u\n",
    "m_40K = 39.963999 * u\n",
    "m_41K = 40.961825 * u\n",
    "\n",
    "D_e = 0.0011141\n",
    "R_e = 10.98\n",
    "\n",
    "R_0 = 10 # in a.u\n",
    "R_N = 100\n",
    "N = 100\n",
    "\n",
    "# collocations distances\n",
    "R_ar = np.array([])\n",
    "\n",
    "for i in range(N - 1):\n",
    "    R_i = R_0 + (i * (R_N - R_0)) / N \n",
    "    R_ar = np.append(R_ar, R_i)\n",
    "\n",
    "print(R_ar)\n"
   ]
  }
 ],
 "metadata": {
  "interpreter": {
   "hash": "07efdcd4b820c98a756949507a4d29d7862823915ec7477944641bea022f4f62"
  },
  "kernelspec": {
   "display_name": "Python 3.8.8 64-bit ('base': conda)",
   "language": "python",
   "name": "python3"
  },
  "language_info": {
   "codemirror_mode": {
    "name": "ipython",
    "version": 3
   },
   "file_extension": ".py",
   "mimetype": "text/x-python",
   "name": "python",
   "nbconvert_exporter": "python",
   "pygments_lexer": "ipython3",
   "version": "3.8.8"
  },
  "orig_nbformat": 4
 },
 "nbformat": 4,
 "nbformat_minor": 2
}
