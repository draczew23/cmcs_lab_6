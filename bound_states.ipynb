{
 "cells": [
  {
   "cell_type": "markdown",
   "metadata": {},
   "source": [
    "# Task 1\n"
   ]
  },
  {
   "cell_type": "code",
   "execution_count": null,
   "metadata": {},
   "outputs": [],
   "source": [
    "import numpy as np\n",
    "import matplotlib.pyplot as plt\n",
    "from matplotlib import cm\n",
    "import scipy.special\n",
    "import math\n",
    "import scipy.constants as const\n",
    "# import scipy.constants.physical_constants"
   ]
  },
  {
   "cell_type": "code",
   "execution_count": null,
   "metadata": {},
   "outputs": [],
   "source": [
    "def V_total(R):\n",
    "    return D_e * ((R_e / R) ** 12 - 2 * (R_e / R) ** 6)\n",
    "\n",
    "\n",
    "# def calc_k_squared(R, E, mu):\n",
    "#     return (2 * mu / h_dash) * (E - V_total(R))\n",
    "\n",
    "\n",
    "def reduced_mass(m1, m2):\n",
    "    return (m1 * m2) / (m1 + m2)\n",
    "\n",
    "\n",
    "# def F_calc(h, k_n_squared, k_n_plus1_squared, k_n_minus1_squared, F_minus_1):\n",
    "#     return (2 * (1 - 5 * h ** 2 * k_n_squared / 12) - (1 + h ** 2 * k_n_minus1_squared / 12) / F_minus_1) / (1 + h ** 2 * k_n_plus1_squared / 12)\n",
    "\n",
    "\n",
    "# def F_calc_first(h, k_n_squared, k_n_plus1_squared):\n",
    "#     return (2 * (1 - 5 * h ** 2 * k_n_squared / 12)) / (1 + h ** 2 * k_n_plus1_squared / 12)\n",
    "\n",
    "def populate_energy_matrix(N, R_N, R_0):\n",
    "    T = np.zeros([dimension, dimension])\n",
    "    for i in range(dimension):\n",
    "        for j in range(dimension):\n",
    "            if i == j:\n",
    "                T[i, j] = (pi ** 2) * (1 / 3 * (2 * N ** 2 + 1) - (np.sin(pi * i / N)) ** (-2)) / (4 * mu * (R_N - R_0) ** 2)\n",
    "            else:\n",
    "                T[i, j] = (pi ** 2) * (- 1) ** (i - j) * ((np.sin(pi * (i - j) /  (2 * N))) ** (- 2) - (np.sin(pi * (i + j) /  (2 * N))) ** (- 2)) / (4 * mu * (R_N - R_0) ** 2)\n",
    "    return T\n",
    "    \n",
    "\n"
   ]
  },
  {
   "cell_type": "code",
   "execution_count": 42,
   "metadata": {},
   "outputs": [
    {
     "name": "stderr",
     "output_type": "stream",
     "text": [
      "C:\\Users\\Asus\\AppData\\Local\\Temp/ipykernel_11748/1979861519.py:25: RuntimeWarning: divide by zero encountered in double_scalars\n",
      "  T[i, j] = (pi ** 2) * (1 / 3 * (2 * N ** 2 + 1) - (np.sin(pi * i / N)) ** (-2)) / (4 * mu * (R_N - R_0) ** 2)\n"
     ]
    },
    {
     "data": {
      "text/plain": [
       "array([[           -inf, -0.00000000e+00,  0.00000000e+00, ...,\n",
       "        -0.00000000e+00,  0.00000000e+00, -0.00000000e+00],\n",
       "       [-0.00000000e+00,  4.78860421e-05, -3.05142520e-05, ...,\n",
       "         2.51620372e-11, -1.67470945e-11,  8.36528202e-12],\n",
       "       [ 0.00000000e+00, -3.05142520e-05,  5.43226407e-05, ...,\n",
       "        -5.03739440e-11,  3.35273192e-11, -1.67470945e-11],\n",
       "       ...,\n",
       "       [-0.00000000e+00,  2.51620372e-11, -5.03739440e-11, ...,\n",
       "         5.55146009e-05, -3.29553900e-05,  6.43659860e-06],\n",
       "       [ 0.00000000e+00, -1.67470945e-11,  3.35273192e-11, ...,\n",
       "        -3.29553900e-05,  5.43226407e-05, -3.05142520e-05],\n",
       "       [-0.00000000e+00,  8.36528202e-12, -1.67470945e-11, ...,\n",
       "         6.43659860e-06, -3.05142520e-05,  4.78860421e-05]])"
      ]
     },
     "execution_count": 42,
     "metadata": {},
     "output_type": "execute_result"
    }
   ],
   "source": [
    "# initial parameters\n",
    "\n",
    "h_dash = 1\n",
    "m_e = h_dash\n",
    "pi = np.pi\n",
    "\n",
    "\n",
    "physical_constants = const.physical_constants\n",
    "hartree_kelvin_val = physical_constants['hartree-kelvin relationship'][0]\n",
    "\n",
    "# all those variables in atomic units a.u\n",
    "\n",
    "u = 1822.888\n",
    "m_39K = 38.963707 * u\n",
    "m_40K = 39.963999 * u\n",
    "m_41K = 40.961825 * u\n",
    "\n",
    "D_e = 0.0011141\n",
    "R_e = 10.98\n",
    "\n",
    "mu = reduced_mass(m_39K, m_40K)\n",
    "\n",
    "R_0 = 10 # in a.u\n",
    "R_N = 100\n",
    "N = 100\n",
    "dimension = 100\n",
    "\n",
    "# collocations distances\n",
    "R_ar = np.array([])\n",
    "\n",
    "for i in range(N - 1):\n",
    "    R_i = R_0 + (i * (R_N - R_0)) / N \n",
    "    R_ar = np.append(R_ar, R_i)\n",
    "\n",
    "# print(mu)\n",
    "\n",
    "T = np.zeros([dimension, dimension])\n",
    "T_bool = np.zeros([dimension, dimension], dtype=bool)\n",
    "\n",
    "di = np.diag_indices(N) # diag indices of our array\n",
    "T_bool[di] = True   # now we have True value on diagonal axis\n",
    "\n",
    "T = populate_energy_matrix(dimension, R_N, R_0)\n",
    "\n",
    "\n",
    "# T\n",
    "\n",
    "# di_i = di[0]\n",
    "\n",
    "# T_ii = (pi ** 2) * (1 / 3 * (2 * N ** 2 + 1) - (np.sin(pi * di_i / N)) ** (-2)) / (4 * mu * (R_N - R_0) ** 2)\n",
    "\n",
    "\n"
   ]
  }
 ],
 "metadata": {
  "interpreter": {
   "hash": "07efdcd4b820c98a756949507a4d29d7862823915ec7477944641bea022f4f62"
  },
  "kernelspec": {
   "display_name": "Python 3.8.8 64-bit ('base': conda)",
   "language": "python",
   "name": "python3"
  },
  "language_info": {
   "codemirror_mode": {
    "name": "ipython",
    "version": 3
   },
   "file_extension": ".py",
   "mimetype": "text/x-python",
   "name": "python",
   "nbconvert_exporter": "python",
   "pygments_lexer": "ipython3",
   "version": "3.8.8"
  },
  "orig_nbformat": 4
 },
 "nbformat": 4,
 "nbformat_minor": 2
}
