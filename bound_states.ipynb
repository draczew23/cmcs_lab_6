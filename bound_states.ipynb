{
 "cells": [
  {
   "cell_type": "markdown",
   "metadata": {},
   "source": [
    "# Task 1\n"
   ]
  },
  {
   "cell_type": "code",
   "execution_count": 67,
   "metadata": {},
   "outputs": [],
   "source": [
    "import numpy as np\n",
    "import matplotlib.pyplot as plt\n",
    "from matplotlib import cm\n",
    "import scipy.special\n",
    "import math\n",
    "import scipy.constants as const\n",
    "# import scipy.constants.physical_constants"
   ]
  },
  {
   "cell_type": "code",
   "execution_count": 68,
   "metadata": {},
   "outputs": [],
   "source": [
    "def V_total(R, R_e, D_e):\n",
    "    return D_e * ((R_e / R) ** 12 - 2 * (R_e / R) ** 6)\n",
    "\n",
    "\n",
    "def reduced_mass(m1, m2):\n",
    "    return (m1 * m2) / (m1 + m2)\n",
    "\n",
    "def get_dist_matrix(R_0, R_N, N):\n",
    "    R_ar = np.array([])\n",
    "\n",
    "    for i in range(N - 1):\n",
    "        R_i = R_0 + (i * (R_N - R_0)) / N \n",
    "        R_ar = np.append(R_ar, R_i)\n",
    "    return R_ar\n",
    "\n",
    "\n",
    "def populate_energy_matrix(N, R_N, R_0):\n",
    "    T = np.zeros([N, N])\n",
    "    for i in range(N):\n",
    "        for j in range(N):\n",
    "            if i == j:\n",
    "                T[i, j] = (pi ** 2) * (1 / 3 * (2 * N ** 2 + 1) - (np.sin(pi * i / N)) ** (-2)) / (4 * mu * (R_N - R_0) ** 2)\n",
    "            else:\n",
    "                T[i, j] = (pi ** 2) * (- 1) ** (i - j) * ((np.sin(pi * (i - j) /  (2 * N))) ** (- 2) - (np.sin(pi * (i + j) /  (2 * N))) ** (- 2)) / (4 * mu * (R_N - R_0) ** 2)\n",
    "    return T\n",
    "\n",
    "def populate_potential_matrix(N, R, R_e, D_e , mu):\n",
    "    V = np.zeros([N, N])\n",
    "    di = np.diag_indices(N) # diag indices of our array\n",
    "    V_int = V_total(R, R_e, D_e)\n",
    "\n",
    "    di_ar = np.asarray(di)\n",
    "    R_to_diag = np.zeros([N, N])\n",
    "    V_int_to_diag = np.fill_diagonal(R_to_diag, V_int)\n",
    "    V = (di_ar * (di_ar + 1)) / (2 * mu * R ** 2) + V_int_to_diag\n",
    "    return V\n",
    "    \n",
    "\n"
   ]
  },
  {
   "cell_type": "code",
   "execution_count": 87,
   "metadata": {},
   "outputs": [
    {
     "name": "stdout",
     "output_type": "stream",
     "text": [
      "[[ 0  1  2  3  4  5  6  7  8  9 10 11 12 13 14 15 16 17 18 19 20 21 22 23\n",
      "  24 25 26 27 28 29 30 31 32 33 34 35 36 37 38 39 40 41 42 43 44 45 46 47\n",
      "  48 49 50 51 52 53 54 55 56 57 58 59 60 61 62 63 64 65 66 67 68 69 70 71\n",
      "  72 73 74 75 76 77 78 79 80 81 82 83 84 85 86 87 88 89 90 91 92 93 94 95\n",
      "  96 97 98 99]\n",
      " [ 0  1  2  3  4  5  6  7  8  9 10 11 12 13 14 15 16 17 18 19 20 21 22 23\n",
      "  24 25 26 27 28 29 30 31 32 33 34 35 36 37 38 39 40 41 42 43 44 45 46 47\n",
      "  48 49 50 51 52 53 54 55 56 57 58 59 60 61 62 63 64 65 66 67 68 69 70 71\n",
      "  72 73 74 75 76 77 78 79 80 81 82 83 84 85 86 87 88 89 90 91 92 93 94 95\n",
      "  96 97 98 99]]\n"
     ]
    },
    {
     "name": "stderr",
     "output_type": "stream",
     "text": [
      "C:\\Users\\Asus\\AppData\\Local\\Temp/ipykernel_11748/3524781828.py:22: RuntimeWarning: divide by zero encountered in double_scalars\n",
      "  T[i, j] = (pi ** 2) * (1 / 3 * (2 * N ** 2 + 1) - (np.sin(pi * i / N)) ** (-2)) / (4 * mu * (R_N - R_0) ** 2)\n"
     ]
    }
   ],
   "source": [
    "# initial parameters\n",
    "\n",
    "h_dash = 1\n",
    "m_e = h_dash\n",
    "pi = np.pi\n",
    "\n",
    "\n",
    "physical_constants = const.physical_constants\n",
    "hartree_kelvin_val = physical_constants['hartree-kelvin relationship'][0]\n",
    "\n",
    "# all those variables in atomic units a.u\n",
    "\n",
    "u = 1822.888\n",
    "m_39K = 38.963707 * u\n",
    "m_40K = 39.963999 * u\n",
    "m_41K = 40.961825 * u\n",
    "\n",
    "D_e = 0.0011141\n",
    "R_e = 10.98\n",
    "\n",
    "mu = reduced_mass(m_39K, m_40K)\n",
    "\n",
    "R_0 = 10 # in a.u\n",
    "R_N = 100\n",
    "N = 100\n",
    "dimension = 100\n",
    "\n",
    "# collocations distances\n",
    "# R_ar = np.array([])\n",
    "\n",
    "# for i in range(N - 1):\n",
    "#     R_i = R_0 + (i * (R_N - R_0)) / N \n",
    "#     R_ar = np.append(R_ar, R_i)\n",
    "\n",
    "R_ar = get_dist_matrix(R_0, R_N, N)\n",
    "\n",
    "# print(mu)\n",
    "\n",
    "T = np.zeros([dimension, dimension])\n",
    "# T_bool = np.zeros([dimension, dimension], dtype=bool)\n",
    "\n",
    "di = np.diag_indices(N) # diag indices of our array\n",
    "# T_bool[di] = True   # now we have True value on diagonal axis\n",
    "\n",
    "T = populate_energy_matrix(dimension, R_N, R_0)\n",
    "\n",
    "V = np.zeros([dimension, dimension])\n",
    "# V = populate_potential_matrix(N, R_ar, R_e, D_e, mu)\n",
    "\n",
    "V = np.zeros([N, N])\n",
    "di = np.diag_indices(N) # diag indices of our array\n",
    "V_int = V_total(R_ar, R_e, D_e)\n",
    "\n",
    "di_ar = np.asarray(di)\n",
    "R_to_diag = np.zeros([N, N])\n",
    "np.fill_diagonal(R_to_diag, V_int)\n",
    "# V = (di_ar * (di_ar + 1)) / (2 * mu * R_to_diag ** 2) + R_to_diag\n",
    "\n",
    "grid\n",
    "\n",
    "# diag_matrix = np.zeros([dimension, dimension])\n",
    "# diag_matrix[di] = 1\n",
    "\n",
    "# # diag_matrix\n",
    "# # di_ar = np.asarray(di)\n",
    "\n",
    "print(di_ar)\n",
    "\n",
    "# R_to_diag\n",
    "\n"
   ]
  }
 ],
 "metadata": {
  "interpreter": {
   "hash": "07efdcd4b820c98a756949507a4d29d7862823915ec7477944641bea022f4f62"
  },
  "kernelspec": {
   "display_name": "Python 3.8.8 64-bit ('base': conda)",
   "language": "python",
   "name": "python3"
  },
  "language_info": {
   "codemirror_mode": {
    "name": "ipython",
    "version": 3
   },
   "file_extension": ".py",
   "mimetype": "text/x-python",
   "name": "python",
   "nbconvert_exporter": "python",
   "pygments_lexer": "ipython3",
   "version": "3.8.8"
  },
  "orig_nbformat": 4
 },
 "nbformat": 4,
 "nbformat_minor": 2
}
