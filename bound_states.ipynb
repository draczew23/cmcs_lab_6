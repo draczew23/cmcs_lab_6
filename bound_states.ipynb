{
 "cells": [
  {
   "cell_type": "markdown",
   "metadata": {},
   "source": [
    "# Task 1\n"
   ]
  },
  {
   "cell_type": "code",
   "execution_count": null,
   "metadata": {},
   "outputs": [],
   "source": [
    "import numpy as np\n",
    "import matplotlib.pyplot as plt\n",
    "from matplotlib import cm\n",
    "import scipy.special\n",
    "import math\n",
    "import scipy.constants as const\n",
    "# import scipy.constants.physical_constants"
   ]
  },
  {
   "cell_type": "code",
   "execution_count": null,
   "metadata": {},
   "outputs": [],
   "source": [
    "def V_total(R, R_e, D_e):\n",
    "    return D_e * ((R_e / R) ** 12 - 2 * (R_e / R) ** 6)\n",
    "\n",
    "\n",
    "def reduced_mass(m1, m2):\n",
    "    return (m1 * m2) / (m1 + m2)\n",
    "\n",
    "def get_dist_matrix(R_0, R_N, N):\n",
    "    R_ar = np.array([])\n",
    "\n",
    "    for i in range(N):\n",
    "        R_i = R_0 + (i * (R_N - R_0)) / N \n",
    "        R_ar = np.append(R_ar, R_i)\n",
    "    return R_ar\n",
    "\n",
    "\n",
    "def populate_energy_matrix(N, R_N, R_0):\n",
    "    T = np.zeros([N, N])\n",
    "    for i in range(N):\n",
    "        for j in range(N):\n",
    "            if i == j:\n",
    "                T[i, j] = (pi ** 2) * (1 / 3 * (2 * N ** 2 + 1) - (np.sin(pi * i / N)) ** (-2)) / (4 * mu * (R_N - R_0) ** 2)\n",
    "            else:\n",
    "                T[i, j] = (pi ** 2) * (- 1) ** (i - j) * ((np.sin(pi * (i - j) /  (2 * N))) ** (- 2) - (np.sin(pi * (i + j) /  (2 * N))) ** (- 2)) / (4 * mu * (R_N - R_0) ** 2)\n",
    "    return T\n",
    "\n",
    "# def populate_potential_matrix(N, R, R_e, D_e , mu):\n",
    "#     V = np.zeros([N, N])\n",
    "#     di = np.diag_indices(N) # diag indices of our array\n",
    "#     V_int = V_total(R_ar, R_e, D_e)\n",
    "\n",
    "#     di_ar = np.asarray(di)\n",
    "#     R_to_diag = np.zeros([N, N])\n",
    "#     grid = np.indices((N, N))\n",
    "#     np.fill_diagonal(R_to_diag, V_int)\n",
    "#     V = (grid[0] * (grid[0] + 1)) / (2 * mu * R_to_diag ** 2) + R_to_diag\n",
    "\n",
    "#     t = np.zeros([dimension, dimension], dtype=bool)\n",
    "#     t[di] = True\n",
    "\n",
    "#     V[~t] = 0\n",
    "#     return V\n",
    "    \n",
    "\n"
   ]
  },
  {
   "cell_type": "code",
   "execution_count": null,
   "metadata": {},
   "outputs": [],
   "source": [
    "# initial parameters\n",
    "\n",
    "h_dash = 1\n",
    "m_e = h_dash\n",
    "pi = np.pi\n",
    "\n",
    "\n",
    "physical_constants = const.physical_constants\n",
    "hartree_kelvin_val = physical_constants['hartree-kelvin relationship'][0]\n",
    "\n",
    "# all those variables in atomic units a.u\n",
    "\n",
    "u = 1822.888\n",
    "m_39K = 38.963707 * u\n",
    "m_40K = 39.963999 * u\n",
    "m_41K = 40.961825 * u\n",
    "\n",
    "D_e = 0.0011141\n",
    "R_e = 10.98\n",
    "\n",
    "mu = reduced_mass(m_39K, m_40K)\n",
    "\n",
    "R_0 = 5 # in a.u\n",
    "R_N = 30\n",
    "N = 1000\n",
    "dimension = N\n",
    "\n",
    "# collocations distances\n",
    "R_ar = get_dist_matrix(R_0, R_N, N)\n",
    "\n",
    "T = np.zeros([dimension, dimension])\n",
    "\n",
    "di = np.diag_indices(N) # diag indices of our array\n",
    "T = populate_energy_matrix(dimension, R_N, R_0)\n",
    "\n",
    "V = np.zeros([dimension, dimension])\n",
    "di = np.diag_indices(dimension) # diag indices of our array\n",
    "V_int = V_total(R_ar, R_e, D_e)\n",
    "\n",
    "di_ar = np.asarray(di)\n",
    "R_to_diag = np.zeros([dimension, dimension])\n",
    "grid = np.indices((dimension, dimension))\n",
    "np.fill_diagonal(R_to_diag, V_int)\n",
    "V = (grid[0] * (grid[0] + 1)) / (2 * mu * R_to_diag ** 2) + R_to_diag\n",
    "\n",
    "t = np.zeros([dimension, dimension], dtype=bool)\n",
    "t[di] = True\n",
    "\n",
    "V[~t] = 0\n",
    "\n",
    "# hamiltonian\n",
    "H = T + V\n",
    "H[0][0] = 0\n",
    "# H\n",
    "w, v = np.linalg.eig(H) # w eigenvalues and v eigenvectors\n",
    "\n",
    "print(v.shape)\n",
    "print(w.shape)\n",
    "\n",
    "v_flipped = np.flip(v, axis=1)\n",
    "v[14]\n",
    "\n",
    "# plt.plot(R_ar, v_flipped[2])\n",
    "# plt.xlim([498, 499])\n",
    "# plt.show()\n"
   ]
  },
  {
   "cell_type": "code",
   "execution_count": 238,
   "metadata": {},
   "outputs": [
    {
     "data": {
      "image/png": "[encoded data removed]",
      "text/plain": [
       "<Figure size 432x288 with 1 Axes>"
      ]
     },
     "metadata": {
      "needs_background": "light"
     },
     "output_type": "display_data"
    }
   ],
   "source": [
    "\n",
    "v_flipped = np.flip(v, axis=1)\n",
    "# for i in v_flipped[14]:\n",
    "#     print(i)\n",
    "\n",
    "for i in range(14):\n",
    "    plt.plot(R_ar, v_flipped[i])\n",
    "    plt.ylabel(\"PSI\")\n",
    "    plt.xlabel(\"R\")\n",
    "    plt.xlim([5, 11])\n",
    "    # plt.show()    \n",
    "\n",
    "# plt.plot(R_ar, v_flipped[50])\n",
    "# plt.ylabel(\"PSI\")\n",
    "# plt.xlabel(\"R\")\n",
    "# plt.xlim([5, 11])\n",
    "# plt.show()"
   ]
  }
 ],
 "metadata": {
  "interpreter": {
   "hash": "07efdcd4b820c98a756949507a4d29d7862823915ec7477944641bea022f4f62"
  },
  "kernelspec": {
   "display_name": "Python 3.8.8 64-bit ('base': conda)",
   "language": "python",
   "name": "python3"
  },
  "language_info": {
   "name": "python",
   "version": "3.8.8"
  },
  "orig_nbformat": 4
 },
 "nbformat": 4,
 "nbformat_minor": 2
}
