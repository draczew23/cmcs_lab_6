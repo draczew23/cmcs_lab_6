{
 "cells": [
  {
   "cell_type": "markdown",
   "metadata": {},
   "source": [
    "# Task 1\n"
   ]
  },
  {
   "cell_type": "code",
   "execution_count": 66,
   "metadata": {},
   "outputs": [],
   "source": [
    "import numpy as np\n",
    "import matplotlib.pyplot as plt\n",
    "from matplotlib import cm\n",
    "import scipy.special\n",
    "import math\n",
    "import scipy.constants as const\n",
    "# import scipy.constants.physical_constants"
   ]
  },
  {
   "cell_type": "code",
   "execution_count": 67,
   "metadata": {},
   "outputs": [],
   "source": [
    "def V_total(R, R_e, D_e):\n",
    "    return D_e * ((R_e / R) ** 12 - 2 * (R_e / R) ** 6)\n",
    "\n",
    "\n",
    "def reduced_mass(m1, m2):\n",
    "    return (m1 * m2) / (m1 + m2)\n",
    "\n",
    "def get_dist_matrix(R_0, R_N, N):\n",
    "    R_ar = np.array([])\n",
    "\n",
    "    for i in range(1, N):\n",
    "        R_i = R_0 + (i * (R_N - R_0)) / N \n",
    "        R_ar = np.append(R_ar, R_i)\n",
    "    return R_ar\n",
    "\n",
    "\n",
    "def populate_energy_matrix(N, R_N, R_0):\n",
    "    T = np.zeros([N, N])\n",
    "    for i in range(1, N - 1):\n",
    "        for j in range(1, N - 1):\n",
    "            if i == j:\n",
    "                T[i, j] = (pi ** 2) * (1 / 3 * (2 * N ** 2 + 1) - (np.sin(pi * i / N)) ** (-2)) / (4 * mu * (R_N - R_0) ** 2)\n",
    "            else:\n",
    "                T[i, j] = (pi ** 2) * (- 1) ** (i - j) * ((np.sin(pi * (i - j) /  (2 * N))) ** (- 2) - (np.sin(pi * (i + j) /  (2 * N))) ** (- 2)) / (4 * mu * (R_N - R_0) ** 2)\n",
    "    return T\n",
    "\n",
    "# def populate_potential_matrix(N, R, R_e, D_e , mu):\n",
    "#     V = np.zeros([N, N])\n",
    "#     di = np.diag_indices(N) # diag indices of our array\n",
    "#     V_int = V_total(R_ar, R_e, D_e)\n",
    "\n",
    "#     di_ar = np.asarray(di)\n",
    "#     R_to_diag = np.zeros([N, N])\n",
    "#     grid = np.indices((N, N))\n",
    "#     np.fill_diagonal(R_to_diag, V_int)\n",
    "#     V = (grid[0] * (grid[0] + 1)) / (2 * mu * R_to_diag ** 2) + R_to_diag\n",
    "\n",
    "#     t = np.zeros([dimension, dimension], dtype=bool)\n",
    "#     t[di] = True\n",
    "\n",
    "#     V[~t] = 0\n",
    "#     return V\n",
    "    \n",
    "\n"
   ]
  },
  {
   "cell_type": "code",
   "execution_count": 76,
   "metadata": {},
   "outputs": [
    {
     "name": "stdout",
     "output_type": "stream",
     "text": [
      "[ 0.00000000e+00  4.02617726e-01 -2.65704015e-01 ... -1.00995887e-11\n",
      "  7.55026780e-12 -4.92487130e-12]\n"
     ]
    }
   ],
   "source": [
    "# initial parameters\n",
    "\n",
    "h_dash = 1\n",
    "m_e = h_dash\n",
    "pi = np.pi\n",
    "\n",
    "physical_constants = const.physical_constants\n",
    "hartree_kelvin_val = physical_constants['hartree-kelvin relationship'][0]\n",
    "\n",
    "# all those variables in atomic units a.u\n",
    "\n",
    "u = 1822.888\n",
    "m_39K = 38.963707 * u\n",
    "m_40K = 39.963999 * u\n",
    "m_41K = 40.961825 * u\n",
    "\n",
    "D_e = 0.0011141\n",
    "R_e = 10.98\n",
    "\n",
    "mu = reduced_mass(m_39K, m_40K)\n",
    "\n",
    "R_0 = 5 # in a.u\n",
    "R_N = 17\n",
    "N = 2000\n",
    "dimension = N\n",
    "\n",
    "# collocations distances\n",
    "\n",
    "R_ar = get_dist_matrix(R_0, R_N, N)\n",
    "\n",
    "# energy matrix\n",
    "\n",
    "T = populate_energy_matrix(dimension, R_N, R_0)\n",
    "\n",
    "# potential matrix\n",
    "\n",
    "V = np.zeros([dimension, dimension])\n",
    "di = np.diag_indices(N) # diag indices of our array\n",
    "V_int = V_total(R_ar, R_e, D_e)\n",
    "\n",
    "for i in range(1, N - 1):\n",
    "    for j in range(1, N - 1):\n",
    "        if i == j:\n",
    "            V[i][j] = j * (j + 1) / (2 * mu * R_ar[j] ** 2) + V_int[j]\n",
    "\n",
    "# hamiltonian\n",
    "\n",
    "H = T + V\n",
    "H_copy = H.copy()\n",
    "H_copy = np.delete(H, 0, 0)\n",
    "H_copy = np.delete(H_copy, len(H_copy) - 1, 0)\n",
    "H_copy = np.delete(H_copy, 0, 1)\n",
    "H_copy = np.delete(H_copy, len(H_copy) - 1, 1)\n",
    "\n",
    "w, v = np.linalg.eig(H) # w eigenvalues and v eigenvectors\n",
    "\n",
    "w_1, v_1 = np.linalg.eig(H_copy) # w eigenvalues and v eigenvectors\n",
    "\n",
    "test = v[:, 2]\n",
    "xaxis = R_ar[0:]\n",
    "\n",
    "yaxis = test[0:len(test)-1]\n",
    "\n",
    "yaxis_2 = yaxis ** 2\n",
    "\n",
    "print(yaxis)\n",
    "\n",
    "# plt.plot(xaxis, yaxis)\n",
    "# plt.xlim([5, 5.1])\n",
    "# plt.show()\n",
    "# test.shape\n",
    "\n",
    "\n",
    "# hamiltonian musi byc wymiarow N-1 oraz pozostale macierez rowniez\n",
    "\n",
    "# WSYSTKO MUSZE ZROBIC NIE OD 0 DO N TYLKO OD 1 DO N-1 BO INACZEJ BEDZIE NIEOKRESLONE\n",
    "# TO POWINNO BYC PROBLEMEM"
   ]
  },
  {
   "cell_type": "markdown",
   "metadata": {},
   "source": [
    "## Plot our wave function"
   ]
  },
  {
   "cell_type": "code",
   "execution_count": 79,
   "metadata": {},
   "outputs": [
    {
     "data": {
      "image/png": "[encoded data removed]",
      "text/plain": [
       "<Figure size 432x288 with 1 Axes>"
      ]
     },
     "metadata": {
      "needs_background": "light"
     },
     "output_type": "display_data"
    }
   ],
   "source": [
    "\n",
    "plt.plot(xaxis, yaxis)\n",
    "plt.ylabel(\"PSI\")\n",
    "plt.xlabel(\"R\")\n",
    "plt.xlim([5, 5.6])\n",
    "plt.show()"
   ]
  },
  {
   "cell_type": "markdown",
   "metadata": {},
   "source": [
    "## Plot energy distribution"
   ]
  },
  {
   "cell_type": "code",
   "execution_count": 80,
   "metadata": {},
   "outputs": [
    {
     "data": {
      "image/png": "[encoded data removed]",
      "text/plain": [
       "<Figure size 432x288 with 1 Axes>"
      ]
     },
     "metadata": {
      "needs_background": "light"
     },
     "output_type": "display_data"
    }
   ],
   "source": [
    "plt.plot(R_ar, w[0:len(w) -1])\n",
    "plt.ylabel(\"Energy\")\n",
    "plt.xlabel(\"R\")\n",
    "plt.show()"
   ]
  },
  {
   "cell_type": "code",
   "execution_count": 70,
   "metadata": {},
   "outputs": [],
   "source": [
    "# T and V have this structure\n",
    "# 1 x N - 1 are non zero elements\n",
    "# 0 0 0 0 0 0\n",
    "# 0 1 1 1 1 0\n",
    "# 0 1 1 1 1 0\n",
    "# 0 1 1 1 1 0\n",
    "# 0 1 1 1 1 0\n",
    "# 0 0 0 0 0 0"
   ]
  },
  {
   "cell_type": "code",
   "execution_count": 71,
   "metadata": {},
   "outputs": [],
   "source": [
    "\n",
    "# v_flipped = np.flip(v, axis=1)\n",
    "# # for i in v_flipped[14]:\n",
    "# #     print(i)\n",
    "\n",
    "# # for i in range(100, 500):\n",
    "# #     if i % 10 == 0:\n",
    "# #         plt.plot(R_ar, v_flipped[i])\n",
    "# #         plt.ylabel(\"PSI \" + str(i))\n",
    "# #         plt.xlabel(\"R\")\n",
    "# #         plt.xlim([5, 8])\n",
    "# #         plt.show()    \n",
    "\n",
    "# plt.plot(R_ar, v_flipped[:, 1])        # dla stanu podstawowego powinien byc gauss w r = 11\n",
    "# plt.ylabel(\"PSI\")\n",
    "# plt.xlabel(\"R\")\n",
    "# # plt.xlim([6.5, 6.9])\n",
    "# plt.show()"
   ]
  }
 ],
 "metadata": {
  "interpreter": {
   "hash": "07efdcd4b820c98a756949507a4d29d7862823915ec7477944641bea022f4f62"
  },
  "kernelspec": {
   "display_name": "Python 3.8.8 64-bit ('base': conda)",
   "language": "python",
   "name": "python3"
  },
  "language_info": {
   "codemirror_mode": {
    "name": "ipython",
    "version": 3
   },
   "file_extension": ".py",
   "mimetype": "text/x-python",
   "name": "python",
   "nbconvert_exporter": "python",
   "pygments_lexer": "ipython3",
   "version": "3.8.8"
  },
  "orig_nbformat": 4
 },
 "nbformat": 4,
 "nbformat_minor": 2
}
